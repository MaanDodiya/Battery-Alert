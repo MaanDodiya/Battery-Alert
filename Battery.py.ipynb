{
 "cells": [
  {
   "cell_type": "code",
   "execution_count": 1,
   "metadata": {},
   "outputs": [],
   "source": [
    "import psutil\n",
    "import time\n",
    "import tkinter as tk\n",
    "import playsound\n",
    "from tkinter import messagebox as mb"
   ]
  },
  {
   "cell_type": "code",
   "execution_count": 2,
   "metadata": {},
   "outputs": [],
   "source": [
    "def call():\n",
    "    battery = psutil.sensors_battery()\n",
    "    plugged = battery.power_plugged\n",
    "    percent = str(battery.percent)\n",
    "    \n",
    "    if(int(percent)<=42 and plugged==False):\n",
    "        playsound.playsound(\"that-was-quick.mp3\")\n",
    "        lowBattery()\n",
    "        time.sleep(30)\n",
    "\n",
    "    elif(int(percent)>=90 and plugged==True):\n",
    "        playsound.playsound(\"that-was-quick.mp3\")\n",
    "        highBattery()\n",
    "        time.sleep(30)\n",
    "\n",
    "    else:\n",
    "        time.sleep(60)\n",
    "    \n",
    "    call()\n",
    "    "
   ]
  },
  {
   "cell_type": "code",
   "execution_count": 3,
   "metadata": {},
   "outputs": [],
   "source": [
    "def lowBattery():\n",
    "    top = tk.Toplevel()\n",
    "    top.title(\"It's your goddamn Battery!\")\n",
    "    \n",
    "    battery = psutil.sensors_battery()\n",
    "    plugged = battery.power_plugged\n",
    "    percent = str(battery.percent)\n",
    "    info = \"STATUS:\\nBattery Percent: \"+percent+\"% | Not Plugged\\nTurn on the goddamn battery!!!!\"\n",
    "\n",
    "    tk.Message(top, text=info, padx=20, pady=20).pack()\n",
    "    top.after(30000,top.destroy())\n",
    "\n",
    "def highBattery():\n",
    "    top = tk.Toplevel()\n",
    "    top.title(\"It's your goddamn Battery!\")\n",
    "    \n",
    "    battery = psutil.sensors_battery()\n",
    "    plugged = battery.power_plugged\n",
    "    percent = str(battery.percent)\n",
    "    info = \"STATUS:\\nBattery Percent: \"+percent+\"% | Plugged in\\nTurn off the goddamn battery!!!!\"\n",
    "\n",
    "    tk.Message(top, text=info, padx=20, pady=20).pack()\n",
    "    top.after(30000,top.destroy())\n",
    "\n",
    "def Q(root):\n",
    "    root.destroy()"
   ]
  },
  {
   "cell_type": "code",
   "execution_count": 41,
   "metadata": {},
   "outputs": [],
   "source": [
    "root = tk.Tk()\n",
    "root.title(\"hey\")\n",
    "call()\n",
    "root.mainloop()"
   ]
  },
  {
   "cell_type": "code",
   "execution_count": null,
   "metadata": {},
   "outputs": [],
   "source": []
  }
 ],
 "metadata": {
  "kernelspec": {
   "display_name": "Python 3",
   "language": "python",
   "name": "python3"
  },
  "language_info": {
   "codemirror_mode": {
    "name": "ipython",
    "version": 3
   },
   "file_extension": ".py",
   "mimetype": "text/x-python",
   "name": "python",
   "nbconvert_exporter": "python",
   "pygments_lexer": "ipython3",
   "version": "3.7.4-final"
  }
 },
 "nbformat": 4,
 "nbformat_minor": 2
}